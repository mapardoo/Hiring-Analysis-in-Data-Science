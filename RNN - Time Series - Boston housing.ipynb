{
 "cells": [
  {
   "cell_type": "markdown",
   "metadata": {},
   "source": [
    "Predicting time series using Recurrent Neural Networks (RNN)"
   ]
  },
  {
   "cell_type": "code",
   "execution_count": null,
   "metadata": {},
   "outputs": [],
   "source": [
    "import pandas as pd\n",
    "import numpy as np\n",
    "from sklearn.model_selection import train_test_split\n",
    "from sklearn.preprocessing import MinMaxScaler\n",
    "import tensorflow as tf\n",
    "import matplotlib.pyplot as plt"
   ]
  },
  {
   "cell_type": "markdown",
   "metadata": {},
   "source": [
    "###### Reading data"
   ]
  },
  {
   "cell_type": "code",
   "execution_count": null,
   "metadata": {},
   "outputs": [],
   "source": [
    "df = pd.read_csv('/content/data_boston.csv', header='infer', encoding='latin1')"
   ]
  },
  {
   "cell_type": "markdown",
   "metadata": {},
   "source": [
    "###### Processing"
   ]
  },
  {
   "cell_type": "code",
   "execution_count": null,
   "metadata": {},
   "outputs": [],
   "source": [
    "df = df[['PRICE']]\n",
    "\n",
    "# scale input & X, y\n",
    "scaler = MinMaxScaler()\n",
    "ts_scaled = scaler.fit_transform(df)\n",
    "\n",
    "# sacle\n",
    "ts_scaled_2 = ts_scaled.reshape(1, -1, 1)"
   ]
  },
  {
   "cell_type": "markdown",
   "metadata": {},
   "source": [
    "###### training parameters"
   ]
  },
  {
   "cell_type": "code",
   "execution_count": null,
   "metadata": {},
   "outputs": [],
   "source": [
    "batch_size = 1\n",
    "n_epochs  = 1000\n",
    "learn_rate = 0.0001"
   ]
  },
  {
   "cell_type": "markdown",
   "metadata": {},
   "source": [
    "###### model"
   ]
  },
  {
   "cell_type": "code",
   "execution_count": null,
   "metadata": {},
   "outputs": [],
   "source": [
    "# model\n",
    "model = tf.keras.Sequential()\n",
    "model.add(tf.keras.Input(shape=(None, 1)))"
   ]
  },
  {
   "cell_type": "code",
   "execution_count": null,
   "metadata": {},
   "outputs": [],
   "source": [
    "# model layers\n",
    "model.add(tf.keras.layers.SimpleRNN(units=100, return_sequences=True, input_shape=(None, 1)))\n",
    "model.add(tf.keras.layers.TimeDistributed(tf.keras.layers.Dense(units=1, activation=\"linear\")))"
   ]
  },
  {
   "cell_type": "code",
   "execution_count": null,
   "metadata": {},
   "outputs": [],
   "source": [
    "# model summary\n",
    "model.summary()"
   ]
  },
  {
   "cell_type": "markdown",
   "metadata": {},
   "source": [
    "###### Optimizer and compile the model"
   ]
  },
  {
   "cell_type": "code",
   "execution_count": null,
   "metadata": {},
   "outputs": [],
   "source": [
    "optimizer = tf.keras.optimizers.Adam(learning_rate = learn_rate)\n",
    "model.compile(loss=\"mse\", optimizer=optimizer, metrics=[\"mse\"])"
   ]
  },
  {
   "cell_type": "markdown",
   "metadata": {},
   "source": [
    "###### visualize"
   ]
  },
  {
   "cell_type": "code",
   "execution_count": null,
   "metadata": {},
   "outputs": [],
   "source": [
    "plt.plot(summary.history['mse'], c=\"b\")\n",
    "plt.title('Historial de Entrenamiento')\n",
    "plt.ylabel('MSE')\n",
    "plt.xlabel('Época')\n",
    "plt.legend(['Entrenamiento'], loc='upper right')\n",
    "plt.show()"
   ]
  },
  {
   "cell_type": "markdown",
   "metadata": {},
   "source": [
    "###### seed"
   ]
  },
  {
   "cell_type": "code",
   "execution_count": null,
   "metadata": {},
   "outputs": [],
   "source": [
    "n_ts_seed = 510\n",
    "n_predict_time_steps = 20\n",
    "\n",
    "ts_seed = ts_scaled[0:n_ts_seed]\n",
    "for i in range(n_predict_time_steps):\n",
    "  X = ts_seed.reshape(1, -1, 1)\n",
    "  y_pred = model.predict(X, verbose=0)\n",
    "  y_last = y_pred[0, -1, 0]\n",
    "  ts_seed = np.concatenate((ts_seed, np.array([y_last]).reshape(1, 1)), axis=0)"
   ]
  },
  {
   "cell_type": "markdown",
   "metadata": {},
   "source": [
    "###### visualize prediction"
   ]
  },
  {
   "cell_type": "code",
   "execution_count": null,
   "metadata": {},
   "outputs": [],
   "source": [
    "ts = scaler.inverse_transform(ts_seed)\n",
    "plt.plot(df.PRICE, c='b', linewidth=2, linestyle=\"-\", label=\"Datos\")\n",
    "plt.plot(ts, c='r', linewidth=2, linestyle=\"--\", label=\"Ajuste\")\n",
    "plt.xlim(350, n_ts_seed+n_predict_time_steps+10)\n",
    "plt.legend()\n",
    "plt.tight_layout()\n",
    "plt.savefig(\"out.png\")\n",
    "plt.show()"
   ]
  }
 ],
 "metadata": {
  "language_info": {
   "name": "python"
  }
 },
 "nbformat": 4,
 "nbformat_minor": 2
}
